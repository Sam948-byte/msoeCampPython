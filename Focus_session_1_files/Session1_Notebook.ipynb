{
 "cells": [
  {
   "cell_type": "markdown",
   "id": "eaea873e",
   "metadata": {},
   "source": [
    "# Birthday problem\n",
    "\n",
    "First up we will walk through a solution to the birthday problem together"
   ]
  },
  {
   "cell_type": "code",
   "execution_count": 14,
   "id": "8881de01",
   "metadata": {},
   "outputs": [],
   "source": [
    "from random import randint\n",
    "\n",
    "def birthday_problem(numPeople, numSims):\n",
    "    count = 0\n",
    "    for i in range(numSims):\n",
    "        bdays = []\n",
    "        for j in range(numPeople):\n",
    "            randDate = randint(1,365)\n",
    "            bdays.append(randDate)\n",
    "        if(len(set(bdays)) != len(bdays)): #sets remove duplicates\n",
    "            count += 1\n",
    "    probability = count / numSims\n",
    "    return probability"
   ]
  },
  {
   "cell_type": "code",
   "execution_count": 34,
   "id": "4b803896",
   "metadata": {},
   "outputs": [
    {
     "name": "stdout",
     "output_type": "stream",
     "text": [
      "The probability of a room with 16 having at least 2 people with the same birthday is 0.266\n"
     ]
    }
   ],
   "source": [
    "numPeople = 16\n",
    "numSims = 1000\n",
    "\n",
    "prob = birthday_problem(numPeople,numSims)\n",
    "print(\"The probability of a room with \" + str(numPeople) + \" having at least 2 people with the same \" +\n",
    "     \"birthday is \" + str(prob))"
   ]
  },
  {
   "cell_type": "markdown",
   "id": "21148599",
   "metadata": {},
   "source": [
    "# Battle Royale"
   ]
  },
  {
   "cell_type": "code",
   "execution_count": 36,
   "id": "839e7231",
   "metadata": {},
   "outputs": [
    {
     "name": "stdout",
     "output_type": "stream",
     "text": [
      "K# Strategy WinPercentage\n",
      "0 [12, 13, 14, 14, 14, 14, 16, 1, 1, 1] 0.15789473684210525\n",
      "1 [22, 2, 2, 2, 2, 2, 2, 42, 12, 12] 0.47368421052631576\n",
      "2 [3, 6, 10, 13, 17, 19, 13, 10, 6, 3] 0.5789473684210527\n",
      "3 [1, 5, 8, 12, 13, 1, 26, 30, 2, 2] 0.47368421052631576\n",
      "4 [0, 1, 1, 2, 18, 18, 10, 24, 24, 2] 0.5263157894736842\n",
      "5 [0, 0, 0, 0, 30, 20, 0, 20, 30, 0] 0.42105263157894735\n",
      "6 [0, 0, 11, 2, 2, 12, 0, 2, 35, 36] 0.5263157894736842\n",
      "7 [2, 5, 8, 10, 13, 1, 26, 30, 2, 3] 0.5263157894736842\n",
      "8 [3, 5, 8, 10, 13, 1, 26, 30, 2, 2] 0.42105263157894735\n",
      "9 [5, 7, 8, 8, 10, 13, 7, 7, 0, 35] 0.3684210526315789\n",
      "10 [0, 1, 2, 16, 21, 3, 2, 1, 35, 19] 0.7894736842105263\n",
      "11 [0, 0, 0, 0, 40, 0, 20, 40, 0, 0] 0.08108108108108109\n",
      "12 [19, 0, 0, 0, 0, 0, 0, 27, 27, 27] 0.5135135135135135\n",
      "13 [1, 1, 3, 17, 17, 1, 0, 0, 30, 30] 0.7894736842105263\n",
      "14 [0, 0, 2, 2, 16, 16, 16, 16, 16, 16] 0.5789473684210527\n",
      "15 [0, 0, 0, 0, 0, 20, 20, 20, 20, 20] 0.5263157894736842\n",
      "16 [5, 10, 15, 5, 10, 15, 5, 10, 15, 10] 0.5263157894736842\n",
      "17 [0, 2, 2, 2, 2, 20, 25, 25, 20, 2] 0.631578947368421\n",
      "18 [1, 1, 1, 6, 17, 17, 6, 6, 22, 23] 0.6842105263157895\n",
      "19 [3, 6, 9, 12, 15, 18, 21, 4, 5, 7] 0.42105263157894735\n",
      "\n",
      "Overall best strategy:\n",
      "10 [0, 1, 2, 16, 21, 3, 2, 1, 35, 19] 0.7894736842105263\n"
     ]
    }
   ],
   "source": [
    "list_of_strategies = [\n",
    "    #tbd\n",
    "             ]\n",
    "\n",
    "wins = []\n",
    "losses = []\n",
    "ties = []\n",
    "\n",
    "# make above lists have same length as number of strategies\n",
    "for i in range(len(list_of_strategies)):\n",
    "    wins.append(0)\n",
    "    losses.append(0)\n",
    "    ties.append(0)\n",
    "\n",
    "\n",
    "# simulate all battles between kingdoms\n",
    "for kingdom1_num in range(len(list_of_strategies)):\n",
    "    for kingdom2_num in range(kingdom1_num+1, len(list_of_strategies)):\n",
    "        \n",
    "        \n",
    "        kingdom1 = list_of_strategies[kingdom1_num]\n",
    "        kingdom2 = list_of_strategies[kingdom2_num]\n",
    "        \n",
    "        #check if any kingdom has the wrong number of troop allocations\n",
    "        if(len(kingdom1))!=10:\n",
    "            print(\"Kingdom \" + str(kingdom1_num) + \" sent troops to the wrong number of castles\")\n",
    "        if(len(kingdom2))!=10:\n",
    "            print(\"Kingdom \" + str(kingdom1_num) + \" sent troops to the wrong number of castles\")\n",
    "        \n",
    "        k1_score = 0\n",
    "        k2_score = 0\n",
    "        \n",
    "        # make sure nobody used too many troops\n",
    "        if sum(kingdom1) > 100.1 and not (sum(kingdom2) > 100.1):\n",
    "            wins[kingdom2_num] += 1\n",
    "            losses[kingdom1_num] += 1\n",
    "            print(\"Kingdom \" + str(kingdom1_num) + \" has too many troops\")\n",
    "            \n",
    "        elif sum(kingdom2) > 100.1 and not (sum(kingdom1) > 100.1):\n",
    "            wins[kingdom1_num] += 1\n",
    "            losses[kingdom2_num] += 1\n",
    "            print(\"Kingdom \" + str(kingdom2_num) + \" has too many troops\")\n",
    "            \n",
    "        #if both kingdoms have no more than 100 troops\n",
    "        elif sum(kingdom1) <= 100.1 and sum(kingdom2) <= 100.1:\n",
    "            \n",
    "            for castle_num in range(10):\n",
    "                if kingdom1[castle_num] > kingdom2[castle_num]:\n",
    "                    k1_score += castle_num + 1\n",
    "                elif kingdom2[castle_num] > kingdom1[castle_num]:\n",
    "                    k2_score += castle_num + 1\n",
    "                else:\n",
    "                    k1_score += (castle_num + 1)/2\n",
    "                    k2_score += (castle_num + 1)/2\n",
    "                    \n",
    "            if k1_score > k2_score:\n",
    "                wins[kingdom1_num] += 1\n",
    "                losses[kingdom2_num] += 1\n",
    "            elif k2_score == k1_score:\n",
    "                ties[kingdom1_num] += 1\n",
    "                ties[kingdom2_num] += 1\n",
    "            else:\n",
    "                wins[kingdom2_num] += 1\n",
    "                losses[kingdom1_num] += 1\n",
    "\n",
    "                \n",
    "#print out results\n",
    "best_strategy = None\n",
    "best_strategy_WP = 0\n",
    "best_strategy_num = -1\n",
    "\n",
    "print(\"K# Strategy WinPercentage\")\n",
    "for i in range(len(wins)):\n",
    "    win_percentage = (wins[i] + ties[i]/2)/(wins[i] + losses[i] + ties[i]/2)\n",
    "    \n",
    "    if win_percentage > best_strategy_WP:\n",
    "        best_strategy_WP = win_percentage\n",
    "        best_strategy = list_of_strategies[i]\n",
    "        best_strategy_num = i\n",
    "    \n",
    "    print(i, list_of_strategies[i], win_percentage)\n",
    "    \n",
    "print()\n",
    "print(\"Overall best strategy:\")\n",
    "print(best_strategy_num, best_strategy, best_strategy_WP)"
   ]
  },
  {
   "cell_type": "code",
   "execution_count": null,
   "id": "f3404a5c",
   "metadata": {},
   "outputs": [],
   "source": []
  }
 ],
 "metadata": {
  "kernelspec": {
   "display_name": "Python 3 (ipykernel)",
   "language": "python",
   "name": "python3"
  },
  "language_info": {
   "codemirror_mode": {
    "name": "ipython",
    "version": 3
   },
   "file_extension": ".py",
   "mimetype": "text/x-python",
   "name": "python",
   "nbconvert_exporter": "python",
   "pygments_lexer": "ipython3",
   "version": "3.9.13"
  }
 },
 "nbformat": 4,
 "nbformat_minor": 5
}
